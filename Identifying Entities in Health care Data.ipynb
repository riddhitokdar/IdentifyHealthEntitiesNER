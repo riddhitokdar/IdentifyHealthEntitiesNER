{
 "cells": [
  {
   "cell_type": "markdown",
   "id": "480d82e2",
   "metadata": {},
   "source": [
    "# Identifying Entities in Health care Data\n",
    "\n",
    "---\n",
    "**Problem Statement**\n",
    "\n",
    "A health-Tech company Be Healthy aims to connect the medical communities with millions of patients across the country it has a web platform that allows doctors to list their services and manage patient interactions and provides services for patients such as booking interactions with doctors and ordering medicines online. Here, doctors can easily organize appointments, track past medical records and provide e-prescriptions.\n",
    "\n",
    "Build a custom NER to get the list of diseases and their treatment from the dataset and list it out in the form of a table or a dictionary.\n",
    "\n",
    "---\n",
    "\n",
    "**We need to perform the following steps:**\n",
    "\n",
    "- We need to process and modify the data into sentence format. This step has to be done for the 'train_sent' and 'train_label' datasets and for test datasets as well.\n",
    "- After that, we need to define the features to build the CRF model.\n",
    "- Then, we need to apply these features in each sentence of the train and the test dataset to get the feature values.\n",
    "- Once the features are computed, we need to define the target variable and then build the CRF model.\n",
    "- Then, we need to perform the evaluation using a test data set.\n",
    "- After that, we need to create a dictionary in which diseases are keys and treatments are values."
   ]
  },
  {
   "cell_type": "code",
   "execution_count": 1,
   "id": "d812ece3",
   "metadata": {},
   "outputs": [],
   "source": [
    "#import necessary libraries\n",
    "import spacy\n",
    "import sklearn_crfsuite\n",
    "from sklearn_crfsuite import metrics\n",
    "import pandas as pd\n",
    "import numpy as np\n",
    "import re\n",
    "from sklearn.metrics import accuracy_score, classification_report, confusion_matrix\n",
    "model = spacy.load(\"en_core_web_sm\")"
   ]
  },
  {
   "cell_type": "code",
   "execution_count": 2,
   "id": "048b4f34",
   "metadata": {},
   "outputs": [],
   "source": [
    "### Function to read text file and convert it into senetnces\n",
    "def word2sentence(file_name):\n",
    "    with open(file_name,\"r\") as data:\n",
    "        data=data.readlines()\n",
    "    for i in range(len(data)):\n",
    "        if(bool(re.search(\"^.+\\n$\",data[i]))):\n",
    "            data[i]=data[i].replace(\"\\n\",\"\")\n",
    "        else:\n",
    "            data[i]=data[i]\n",
    "    st=\" \".join(data)\n",
    "    return pd.DataFrame(st.split(\" \\n \"))"
   ]
  },
  {
   "cell_type": "code",
   "execution_count": 3,
   "id": "27530377",
   "metadata": {},
   "outputs": [],
   "source": [
    "#### Reading Data into DataFrae\n",
    "train_sent =word2sentence(\"train_sent\")\n",
    "train_label =word2sentence(\"train_label\")\n",
    "test_sent =word2sentence(\"test_sent\")\n",
    "test_label =word2sentence(\"test_label\")"
   ]
  },
  {
   "cell_type": "code",
   "execution_count": 4,
   "id": "e5853496",
   "metadata": {},
   "outputs": [
    {
     "name": "stdout",
     "output_type": "stream",
     "text": [
      "Printing Training 5 Top rows \n",
      " \n",
      "                                                   0\n",
      "0  All live births > or = 23 weeks at the Univers...\n",
      "1  The total cesarean rate was 14.4 % ( 344 of 23...\n",
      "2  Abnormal presentation was the most common indi...\n",
      "3  The `` corrected '' cesarean rate ( maternal-f...\n",
      "4  Arrest of dilation was the most common indicat...\n",
      "\n",
      " \n",
      " \n",
      "Printing Training label 5 Top rows \n",
      " \n",
      "                                                   0\n",
      "0  O O O O O O O O O O O O O O O O O O O O O O O ...\n",
      "1  O O O O O O O O O O O O O O O O O O O O O O O O O\n",
      "2                      O O O O O O O O O O O O O O O\n",
      "3  O O O O O O O O O O O O O O O O O O O O O O O ...\n",
      "4        O O O O O O O O O O O O O O O O O O O O O O\n"
     ]
    }
   ],
   "source": [
    "print(\"Printing Training 5 Top rows \\n \")\n",
    "print(train_sent.head())\n",
    "print(\"\\n \\n \")\n",
    "print(\"Printing Training label 5 Top rows \\n \")\n",
    "print(train_label.head())"
   ]
  },
  {
   "cell_type": "code",
   "execution_count": 5,
   "id": "93456de5",
   "metadata": {},
   "outputs": [
    {
     "name": "stdout",
     "output_type": "stream",
     "text": [
      "Printing Test 5 Top rows \n",
      " \n",
      "                                                   0\n",
      "0  Furthermore , when all deliveries were analyze...\n",
      "1  As the ambient temperature increases , there i...\n",
      "2  The daily high temperature ranged from 71 to 1...\n",
      "3  There was a significant correlation between th...\n",
      "4  Fluctuations in ambient temperature are invers...\n",
      "\n",
      " \n",
      " \n",
      "Printing Test label 5 Top rows \n",
      " \n",
      "                                                   0\n",
      "0  O O O O O O O O O O O O O O O O O O O O O O O ...\n",
      "1              O O O O O O O O O O O O O O O O O O O\n",
      "2    O O O O O O O O O O O O O O O O O O O O O O O O\n",
      "3  O O O O O O O O O O O O O O O O O O O O O O O ...\n",
      "4                              O O O O O O O O O O O\n"
     ]
    }
   ],
   "source": [
    "print(\"Printing Test 5 Top rows \\n \")\n",
    "print(test_sent.head())\n",
    "print(\"\\n \\n \")\n",
    "print(\"Printing Test label 5 Top rows \\n \")\n",
    "print(test_label.head())"
   ]
  },
  {
   "cell_type": "code",
   "execution_count": 6,
   "id": "8f27f06d",
   "metadata": {},
   "outputs": [
    {
     "name": "stdout",
     "output_type": "stream",
     "text": [
      "The number of lines/sentences in training sentence file 2599\n",
      "The number of lines/sentences in test sentence file 1056\n"
     ]
    }
   ],
   "source": [
    "print(\"The number of lines/sentences in training sentence file\",len(train_sent))\n",
    "print(\"The number of lines/sentences in test sentence file\",len(test_sent))"
   ]
  },
  {
   "cell_type": "code",
   "execution_count": 7,
   "id": "9c27ffc0",
   "metadata": {},
   "outputs": [
    {
     "name": "stdout",
     "output_type": "stream",
     "text": [
      "The number of lines in training label file 2599\n",
      "The number of lines in test label file 1056\n"
     ]
    }
   ],
   "source": [
    "print(\"The number of lines in training label file\",len(train_label))\n",
    "print(\"The number of lines in test label file\",len(test_label))"
   ]
  },
  {
   "cell_type": "code",
   "execution_count": 8,
   "id": "2529d58f",
   "metadata": {},
   "outputs": [],
   "source": [
    "All_data=pd.concat([train_sent,test_sent],axis=0).reset_index(drop=True)"
   ]
  },
  {
   "cell_type": "code",
   "execution_count": 9,
   "id": "9c7c7a9c",
   "metadata": {},
   "outputs": [
    {
     "data": {
      "text/html": [
       "<div>\n",
       "<style scoped>\n",
       "    .dataframe tbody tr th:only-of-type {\n",
       "        vertical-align: middle;\n",
       "    }\n",
       "\n",
       "    .dataframe tbody tr th {\n",
       "        vertical-align: top;\n",
       "    }\n",
       "\n",
       "    .dataframe thead th {\n",
       "        text-align: right;\n",
       "    }\n",
       "</style>\n",
       "<table border=\"1\" class=\"dataframe\">\n",
       "  <thead>\n",
       "    <tr style=\"text-align: right;\">\n",
       "      <th></th>\n",
       "      <th>0</th>\n",
       "    </tr>\n",
       "  </thead>\n",
       "  <tbody>\n",
       "    <tr>\n",
       "      <th>0</th>\n",
       "      <td>All live births &gt; or = 23 weeks at the Univers...</td>\n",
       "    </tr>\n",
       "    <tr>\n",
       "      <th>1</th>\n",
       "      <td>The total cesarean rate was 14.4 % ( 344 of 23...</td>\n",
       "    </tr>\n",
       "    <tr>\n",
       "      <th>2</th>\n",
       "      <td>Abnormal presentation was the most common indi...</td>\n",
       "    </tr>\n",
       "    <tr>\n",
       "      <th>3</th>\n",
       "      <td>The `` corrected '' cesarean rate ( maternal-f...</td>\n",
       "    </tr>\n",
       "    <tr>\n",
       "      <th>4</th>\n",
       "      <td>Arrest of dilation was the most common indicat...</td>\n",
       "    </tr>\n",
       "    <tr>\n",
       "      <th>...</th>\n",
       "      <td>...</td>\n",
       "    </tr>\n",
       "    <tr>\n",
       "      <th>3650</th>\n",
       "      <td>Reduction of vasoreactivity and thrombogenicit...</td>\n",
       "    </tr>\n",
       "    <tr>\n",
       "      <th>3651</th>\n",
       "      <td>Effects of ultrasound energy on total peripher...</td>\n",
       "    </tr>\n",
       "    <tr>\n",
       "      <th>3652</th>\n",
       "      <td>High-dose chemotherapy with autologous stem-ce...</td>\n",
       "    </tr>\n",
       "    <tr>\n",
       "      <th>3653</th>\n",
       "      <td>`` Tandem '' high-dose chemoradiotherapy with ...</td>\n",
       "    </tr>\n",
       "    <tr>\n",
       "      <th>3654</th>\n",
       "      <td>Intravenous immune globulin for recurrent spon...</td>\n",
       "    </tr>\n",
       "  </tbody>\n",
       "</table>\n",
       "<p>3655 rows × 1 columns</p>\n",
       "</div>"
      ],
      "text/plain": [
       "                                                      0\n",
       "0     All live births > or = 23 weeks at the Univers...\n",
       "1     The total cesarean rate was 14.4 % ( 344 of 23...\n",
       "2     Abnormal presentation was the most common indi...\n",
       "3     The `` corrected '' cesarean rate ( maternal-f...\n",
       "4     Arrest of dilation was the most common indicat...\n",
       "...                                                 ...\n",
       "3650  Reduction of vasoreactivity and thrombogenicit...\n",
       "3651  Effects of ultrasound energy on total peripher...\n",
       "3652  High-dose chemotherapy with autologous stem-ce...\n",
       "3653  `` Tandem '' high-dose chemoradiotherapy with ...\n",
       "3654  Intravenous immune globulin for recurrent spon...\n",
       "\n",
       "[3655 rows x 1 columns]"
      ]
     },
     "execution_count": 9,
     "metadata": {},
     "output_type": "execute_result"
    }
   ],
   "source": [
    "All_data"
   ]
  },
  {
   "cell_type": "code",
   "execution_count": 10,
   "id": "97f99e53",
   "metadata": {},
   "outputs": [],
   "source": [
    "#getting features for each words\n",
    "def getFeaturesForOneWord(sentence,pos):\n",
    "    word=sentence[pos]\n",
    "    #tag=sentence[pos][1]\n",
    "    features=[\n",
    "        'word.lower='+ word.lower(), #input in lower case\n",
    "        'word[-3:]='+ word[-3:], #last 3 characters of word\n",
    "        'word[-2:]='+ word[-2:], #last 2 characters of word \n",
    "        'word.isupper=%s' % word.isupper(), #is the word in all uppercase\n",
    "        'word.isdigit=%s' % word.isdigit(),  # is the word a number\n",
    "        'word.istitle=%s'%word.istitle(),# is the word a title\n",
    "        #'word.postag=%s'%tag.lower(),\n",
    "        'words.startsWithCapital=%s' % word[0].isupper() # is the word starting with a capital letter   \n",
    "    ]\n",
    "    \n",
    "    if (pos>0):\n",
    "        prev_word=sentence[pos-1]\n",
    "        #prev_tag=sentence[pos-1][1]\n",
    "        features.extend([\n",
    "            'prev_word.lower='+ prev_word.lower(), #previous word in lower case\n",
    "            'prev_word.isupper=%s' % prev_word.isupper(), #is previous word in upper case\n",
    "            'prev_word.isdigit=%s' % prev_word.isdigit(), # is the word a number\n",
    "            'prev_word.istitle=%s'%prev_word.istitle(),# is the word a title\n",
    "            #'prev_word.postag=%s'%prev_tag.lower(),\n",
    "            'prev_word.startsWithCapital=%s' % prev_word[0].isupper() #is the word starting with a capital letter\n",
    "        ])\n",
    "    else:\n",
    "        features.append('BEG')\n",
    "    \n",
    "    if (pos==len(sentence)-1):\n",
    "        features.append('END')\n",
    "    return features"
   ]
  },
  {
   "cell_type": "code",
   "execution_count": 11,
   "id": "e86493b9",
   "metadata": {},
   "outputs": [],
   "source": [
    "# Write a code to get features for a sentence.\n",
    "\n",
    "def getFeaturesForOneSentence(sentence):\n",
    "    sentence_list = sentence.split()\n",
    "    return [getFeaturesForOneWord(sentence_list, pos) for pos in range(len(sentence_list))]"
   ]
  },
  {
   "cell_type": "code",
   "execution_count": 12,
   "id": "cbc59683",
   "metadata": {},
   "outputs": [],
   "source": [
    "# Write a code to get the labels for a sentence.\n",
    "def getLabelsInListForOneSentence(labels):\n",
    "    return labels.split()"
   ]
  },
  {
   "cell_type": "code",
   "execution_count": 13,
   "id": "a4d889c0",
   "metadata": {},
   "outputs": [],
   "source": [
    "#sentences in list format\n",
    "train_sent=train_sent[0].tolist()\n",
    "train_label=train_label[0].tolist()\n",
    "test_sent=test_sent[0].tolist()\n",
    "test_label=test_label[0].tolist()"
   ]
  },
  {
   "cell_type": "code",
   "execution_count": 14,
   "id": "f281dab2",
   "metadata": {},
   "outputs": [
    {
     "name": "stdout",
     "output_type": "stream",
     "text": [
      "Cesarean rates at tertiary care hospitals should be compared with rates at community hospitals only after correcting for dissimilar patient groups or gestational age\n"
     ]
    },
    {
     "data": {
      "text/plain": [
       "['word.lower=at',\n",
       " 'word[-3:]=at',\n",
       " 'word[-2:]=at',\n",
       " 'word.isupper=False',\n",
       " 'word.isdigit=False',\n",
       " 'word.istitle=False',\n",
       " 'words.startsWithCapital=False',\n",
       " 'prev_word.lower=rates',\n",
       " 'prev_word.isupper=False',\n",
       " 'prev_word.isdigit=False',\n",
       " 'prev_word.istitle=False',\n",
       " 'prev_word.startsWithCapital=False']"
      ]
     },
     "execution_count": 14,
     "metadata": {},
     "output_type": "execute_result"
    }
   ],
   "source": [
    "#check whethere feature extractions work correctly or not\n",
    "example_sentence = train_sent[5]\n",
    "print(example_sentence)\n",
    "\n",
    "features = getFeaturesForOneSentence(example_sentence)\n",
    "features[2]"
   ]
  },
  {
   "cell_type": "code",
   "execution_count": 15,
   "id": "8834b879",
   "metadata": {},
   "outputs": [],
   "source": [
    "#get train and test X data\n",
    "X_train = [getFeaturesForOneSentence(sentence) for sentence in train_sent]\n",
    "X_test = [getFeaturesForOneSentence(sentence) for sentence in test_sent]"
   ]
  },
  {
   "cell_type": "code",
   "execution_count": 16,
   "id": "b5cb4418",
   "metadata": {},
   "outputs": [],
   "source": [
    "#get train and test Y data\n",
    "Y_train = [getLabelsInListForOneSentence(labels) for labels in train_label]\n",
    "Y_test = [getLabelsInListForOneSentence(labels) for labels in test_label]"
   ]
  },
  {
   "cell_type": "code",
   "execution_count": 17,
   "id": "64244550",
   "metadata": {},
   "outputs": [
    {
     "name": "stderr",
     "output_type": "stream",
     "text": [
      "C:\\Users\\riddh\\Anaconda3\\lib\\site-packages\\sklearn\\base.py:209: FutureWarning: From version 0.24, get_params will raise an AttributeError if a parameter cannot be retrieved as an instance attribute. Previously it would return None.\n",
      "  warnings.warn('From version 0.24, get_params will raise an '\n"
     ]
    },
    {
     "data": {
      "text/plain": [
       "CRF(keep_tempfiles=None, max_iterations=100)"
      ]
     },
     "execution_count": 17,
     "metadata": {},
     "output_type": "execute_result"
    }
   ],
   "source": [
    "#CRF\n",
    "crf = sklearn_crfsuite.CRF(max_iterations=100)\n",
    "crf.fit(X_train, Y_train)"
   ]
  },
  {
   "cell_type": "code",
   "execution_count": 18,
   "id": "75e1b144",
   "metadata": {},
   "outputs": [],
   "source": [
    "#make prediction\n",
    "y_pred = crf.predict(X_test)"
   ]
  },
  {
   "cell_type": "code",
   "execution_count": 19,
   "id": "0d734ca0",
   "metadata": {},
   "outputs": [
    {
     "data": {
      "text/plain": [
       "0.9032506607059889"
      ]
     },
     "execution_count": 19,
     "metadata": {},
     "output_type": "execute_result"
    }
   ],
   "source": [
    "#check f1 score\n",
    "metrics.flat_f1_score(Y_test, y_pred, average='weighted')"
   ]
  },
  {
   "cell_type": "code",
   "execution_count": 20,
   "id": "5ab65e2e",
   "metadata": {},
   "outputs": [],
   "source": [
    "#create a dictionary of disease and treatment\n",
    "dict={}\n",
    "for i in range(len(y_pred)):\n",
    "    d=[]\n",
    "    t=[]\n",
    "    for word,tag in zip(test_sent[i].split(),y_pred[i]):\n",
    "        if(tag=='T'):\n",
    "            t.append(word)\n",
    "        if(tag=='D'):\n",
    "            d.append(word)\n",
    "    if(len(d)>0 and len(t)>0):\n",
    "        dict[\" \".join(d)]=\" \".join(t)"
   ]
  },
  {
   "cell_type": "code",
   "execution_count": 21,
   "id": "364f4fb4",
   "metadata": {},
   "outputs": [
    {
     "data": {
      "text/plain": [
       "{'hereditary retinoblastoma': 'radiotherapy',\n",
       " 'unstable angina or non-Q-wave myocardial infarction': 'roxithromycin',\n",
       " 'coronary-artery disease': 'Antichlamydial antibiotics',\n",
       " 'cellulitis': 'G-CSF therapy intravenous antibiotic treatment',\n",
       " 'foot infection': 'G-CSF treatment',\n",
       " \"early Parkinson 's disease\": 'Ropinirole monotherapy',\n",
       " 'female stress urinary incontinence': 'surgical treatment',\n",
       " 'stress urinary incontinence': 'therapy',\n",
       " 'preeclampsia ( proteinuric hypertension )': 'intrauterine insemination with donor sperm versus intrauterine insemination',\n",
       " 'cancer': 'oral drugs chemotherapy',\n",
       " 'major pulmonary embolism': 'Thrombolytic treatment right-side hemodynamics',\n",
       " 'malignant pleural mesothelioma': 'thoracotomy , radiotherapy , and chemotherapy',\n",
       " 'tumor markers pulmonary symptoms attributable': 'chemotherapy',\n",
       " 'non-obstructive azoospermia': 'testicular fine needle aspiration ( TEFNA ) open biopsy and testicular sperm extraction ( TESE )',\n",
       " 'colorectal cancer': 'potential curative surgery',\n",
       " 'bronchial asthma': 'Non-steroidal anti-inflammatory therapy',\n",
       " 'primary stomach lymphoma': 'therapy',\n",
       " \"Parkinson 's disease\": 'Microelectrode-guided posteroventral pallidotomy',\n",
       " 'soft tissue sarcomas': 'Radiotherapy',\n",
       " \"Eisenmenger 's syndrome\": 'laparoscopic cholecystectomy',\n",
       " 'advanced esophageal cancer': 'adjuvant chemoradiotherapy with CDDP',\n",
       " 'breast cancer': 'undergone subcutaneous mastectomy and immediate reconstruction',\n",
       " 'leukemia': 'Trisomy',\n",
       " 'some malignant tumors such as non-small cell lung cancer': 'surgery',\n",
       " 'inoperable advanced malignancies such as colorectal cancer': 'combination with leucovorin or cisplatin',\n",
       " 'inflammatory skin diseases': 'topical corticosteroids',\n",
       " 'unresectable stage iii nsclc': 'studies involving sequential chemotherapy',\n",
       " 'nsclc nsclc sclc': 'got surgical treatment radiotherapy',\n",
       " 'nsclc': 'evaluate planned sequential chemotherapy',\n",
       " 'extracorporeal photopheresis': 'concurrent acute rejection , therapy',\n",
       " 'locally advanced non-small-cell lung cancer ( la-nsclc )': 'chemotherapy and radiotherapy )',\n",
       " 'radiation-induced myelopathy': 'heparin and enoxaparin',\n",
       " 'limited stage small cell lung cancer': 'vip combination chemotherapy',\n",
       " 'malignant pleural effusions from nsclc': 'systemic chemotherapy',\n",
       " 'small-cell lung cancer': 'combination chemotherapy',\n",
       " 'intraluminal early-stage cancer': 'photodynamic therapy',\n",
       " 'pathologic stage i non-small cell lung cancer': 'postoperative oral administration',\n",
       " 'supraclavicular node metastases in nsclc': 'chemoradiotherapy',\n",
       " 'non-small-cell-lung-cancer ( nsclc )': 'cisplatin and radiotherapy',\n",
       " 'lung carcinoma': 'videothoracoscopic lobectomy or partial resection of the lung instead of an open thoracotomy',\n",
       " 'stage 0 lung carcinoma': 'curative therapy',\n",
       " 'single non-sclc melanoma ovarian carcinoma brain metastasis': 'surgical resection',\n",
       " 'colorectal metastases': 'therapeutic vats metastasectomy',\n",
       " 'limited-stage small-cell carcinoma': 'combined-modality therapy',\n",
       " 'advanced nsclc': 'assessing combination chemotherapy of cisplatin , ifosfamide and irinotecan with rhg-csf support',\n",
       " 'metastatic colorectal cancer': 'intravenous oxaliplatin',\n",
       " \"non-hodgkin 's lymphoma , breast cancer mesothelioma and non-small cell lung cancer\": 'oxaliplatin',\n",
       " 'platinum-pretreated ovarian cancer': 'oxaliplatin',\n",
       " 'non-small cell lung cancer advanced hormone refractory prostate cancer': 'combination with paclitaxel and carboplatin',\n",
       " 'primary lung cancer adenocarcinoma squamous cell carcinoma': 'resection',\n",
       " 'stage iii nsclc': 'chemotherapy administered before surgery',\n",
       " 'small cell lung cancer': 'prophylactic cranial irradiation prolongs',\n",
       " 'primary cancer': 'adjuvant radiation therapy',\n",
       " 'advanced non -- small-cell lung cancer': 'determine whether paclitaxel plus carboplatin ( pc ) vinorelbine plus cisplatin ( vc )',\n",
       " 'two-year survivors among sclc limited disease extensive disease': 'platinum dose ( cisplatin plus carboplatin ) in combination chemotherapy combination therapy with carboplatin alone',\n",
       " 'small cell lung cancer ( sclc ) untreated sclc': 'chemotherapy',\n",
       " 'neutropenia during cancer': 'chemotherapy',\n",
       " 'head and neck cancer': 'irradiation therapy intravenous amifostine',\n",
       " 'disseminated malignant melanoma': 'leukocyte A recombinant interferon ( rIFN-alpha',\n",
       " 'advanced stage ( TNM IIB-IVB ) mycosis fungoides': 'combination chemotherapy bleomycin and methotrexate weekly , doxorubicin every',\n",
       " 'ventricular tachycardia': 'Guiding surgical therapy',\n",
       " 'cholestasis': 'crude drugs',\n",
       " 'spinal adhesive arachnoiditis': 'Surgical management',\n",
       " 'bronchiectasis': 'Current surgical therapy',\n",
       " 'biliary colic symptoms biliary dyskinesia': 'cholecystectomy',\n",
       " 'biliary dyskinesia': 'Cholecystectomy first-line therapy',\n",
       " 'symptoms the common cold': 'pseudoephedrine plus acetaminophen',\n",
       " 'symptoms of a common cold': 'Macrolide antibiotics',\n",
       " 'rhinovirus': 'clarithromycin',\n",
       " 'infection': 'combination of omeprazole , amoxicillin , and clarithromycin',\n",
       " 'carcinoma': 'esophagectomy',\n",
       " 'Contemporary asthma persistent asthma': 'management guidelines list inhaled corticosteroids',\n",
       " 'asthma': 'Fluticasone propionate several inhaled corticosteroids',\n",
       " 'chronic hepatitis C': 'Combination therapy with interferon-alpha ( IFN alpha ) plus Ribavirin',\n",
       " 'hepatitis C viremia': 'combination therapy',\n",
       " 'severe hypoxemia': 'glucocorticoid pulse therapy',\n",
       " 'primary sclerosing cholangitis ( PSC )': 'oral budesonide',\n",
       " 'acute myocardial infarction': 'Thrombolytic therapy',\n",
       " 'the primary cancer': 'Immunotherapy',\n",
       " 'acute occlusion of the middle cerebral artery large embolus or high-grade stenosis': 'thrombolytic therapy',\n",
       " 'benign prostatic hyperplasia': 'conservative pharmacological treatment',\n",
       " 'phaeochromocytoma': 'Adrenalectomy',\n",
       " 'malignant melanoma': 'interferon alfa-2a',\n",
       " 'advanced renal cell carcinoma': 'various interferon alpha preparations interferon alfa-N1 , interferon alfa-2a , and interferon alfa-2b',\n",
       " 'hairy cell leukemia infection': 'antileukemic therapy',\n",
       " \"low-grade non-Hodgkin 's lymphoma\": 'interferon alpha',\n",
       " 'partial seizures': 'lamotrigine monotherapy',\n",
       " 'esophageal achalasia': 'botulinum toxin injection , pneumatic dilation , and laparoscopic myotomy',\n",
       " 'prostate cancer': 'radical prostatectomy and iodine 125 interstitial radiotherapy',\n",
       " 'tumors': 'Immunotherapy',\n",
       " 'mitomycin-resistant bladder cancer': 'photodynamic therapy in combination with mitomycin C',\n",
       " 'B16 melanoma': 'adenosine triphosphate and treatment with buthionine sulfoximine',\n",
       " 'primary uveal melanoma': 'transpupillary thermotherapy',\n",
       " 'advanced rectal cancer': 'Nerve-sparing surgery',\n",
       " 'acute cerebral ischemia': 'Antiplatelet therapy',\n",
       " 'renal cell carcinoma': 'Interferon treatment',\n",
       " 'myocardial angiogenesis': 'Gene therapy',\n",
       " 'autoimmune hemolytic anemia': 'heparin',\n",
       " 'epithelial ovarian cancer': 'High-dose chemotherapy',\n",
       " 'moderately symptomatic benign prostatic hyperplasia': 'surgical resection',\n",
       " 'multiple sclerosis': 'Intravenous immunoglobulin treatment',\n",
       " 'cerebral palsy': 'Hyperbaric oxygen therapy',\n",
       " 'postvitrectomy diabetic vitreous hemorrhage': 'Peripheral retinal cryotherapy',\n",
       " 'hepatitis B': 'vaccine containing MF59',\n",
       " 'temporomandibular joint arthropathy': 'arthroscopic treatment',\n",
       " 'severe secondary peritonitis': 'Surgical management',\n",
       " 'hepatic metastases from colorectal cancer': 'Hepatic arterial infusion of chemotherapy after resection'}"
      ]
     },
     "execution_count": 21,
     "metadata": {},
     "output_type": "execute_result"
    }
   ],
   "source": [
    "#check dictionary\n",
    "dict"
   ]
  },
  {
   "cell_type": "code",
   "execution_count": 22,
   "id": "e8c735ae",
   "metadata": {},
   "outputs": [
    {
     "data": {
      "text/plain": [
       "'radiotherapy'"
      ]
     },
     "execution_count": 22,
     "metadata": {},
     "output_type": "execute_result"
    }
   ],
   "source": [
    "### Finding the data from Dictionary\n",
    "dict['hereditary retinoblastoma']"
   ]
  },
  {
   "cell_type": "code",
   "execution_count": 23,
   "id": "b55adccf",
   "metadata": {},
   "outputs": [],
   "source": [
    "#create data frame\n",
    "disease_treatment_df = pd.DataFrame([(k,v) for k, v in dict.items()], columns=['Disease', 'Predicted Treatment'])"
   ]
  },
  {
   "cell_type": "code",
   "execution_count": 24,
   "id": "2f4dc575",
   "metadata": {},
   "outputs": [
    {
     "data": {
      "text/html": [
       "<div>\n",
       "<style scoped>\n",
       "    .dataframe tbody tr th:only-of-type {\n",
       "        vertical-align: middle;\n",
       "    }\n",
       "\n",
       "    .dataframe tbody tr th {\n",
       "        vertical-align: top;\n",
       "    }\n",
       "\n",
       "    .dataframe thead th {\n",
       "        text-align: right;\n",
       "    }\n",
       "</style>\n",
       "<table border=\"1\" class=\"dataframe\">\n",
       "  <thead>\n",
       "    <tr style=\"text-align: right;\">\n",
       "      <th></th>\n",
       "      <th>Disease</th>\n",
       "      <th>Predicted Treatment</th>\n",
       "    </tr>\n",
       "  </thead>\n",
       "  <tbody>\n",
       "    <tr>\n",
       "      <th>0</th>\n",
       "      <td>hereditary retinoblastoma</td>\n",
       "      <td>radiotherapy</td>\n",
       "    </tr>\n",
       "    <tr>\n",
       "      <th>1</th>\n",
       "      <td>unstable angina or non-Q-wave myocardial infar...</td>\n",
       "      <td>roxithromycin</td>\n",
       "    </tr>\n",
       "    <tr>\n",
       "      <th>2</th>\n",
       "      <td>coronary-artery disease</td>\n",
       "      <td>Antichlamydial antibiotics</td>\n",
       "    </tr>\n",
       "    <tr>\n",
       "      <th>3</th>\n",
       "      <td>cellulitis</td>\n",
       "      <td>G-CSF therapy intravenous antibiotic treatment</td>\n",
       "    </tr>\n",
       "    <tr>\n",
       "      <th>4</th>\n",
       "      <td>foot infection</td>\n",
       "      <td>G-CSF treatment</td>\n",
       "    </tr>\n",
       "    <tr>\n",
       "      <th>...</th>\n",
       "      <td>...</td>\n",
       "      <td>...</td>\n",
       "    </tr>\n",
       "    <tr>\n",
       "      <th>102</th>\n",
       "      <td>postvitrectomy diabetic vitreous hemorrhage</td>\n",
       "      <td>Peripheral retinal cryotherapy</td>\n",
       "    </tr>\n",
       "    <tr>\n",
       "      <th>103</th>\n",
       "      <td>hepatitis B</td>\n",
       "      <td>vaccine containing MF59</td>\n",
       "    </tr>\n",
       "    <tr>\n",
       "      <th>104</th>\n",
       "      <td>temporomandibular joint arthropathy</td>\n",
       "      <td>arthroscopic treatment</td>\n",
       "    </tr>\n",
       "    <tr>\n",
       "      <th>105</th>\n",
       "      <td>severe secondary peritonitis</td>\n",
       "      <td>Surgical management</td>\n",
       "    </tr>\n",
       "    <tr>\n",
       "      <th>106</th>\n",
       "      <td>hepatic metastases from colorectal cancer</td>\n",
       "      <td>Hepatic arterial infusion of chemotherapy afte...</td>\n",
       "    </tr>\n",
       "  </tbody>\n",
       "</table>\n",
       "<p>107 rows × 2 columns</p>\n",
       "</div>"
      ],
      "text/plain": [
       "                                               Disease  \\\n",
       "0                            hereditary retinoblastoma   \n",
       "1    unstable angina or non-Q-wave myocardial infar...   \n",
       "2                              coronary-artery disease   \n",
       "3                                           cellulitis   \n",
       "4                                       foot infection   \n",
       "..                                                 ...   \n",
       "102        postvitrectomy diabetic vitreous hemorrhage   \n",
       "103                                        hepatitis B   \n",
       "104                temporomandibular joint arthropathy   \n",
       "105                       severe secondary peritonitis   \n",
       "106          hepatic metastases from colorectal cancer   \n",
       "\n",
       "                                   Predicted Treatment  \n",
       "0                                         radiotherapy  \n",
       "1                                        roxithromycin  \n",
       "2                           Antichlamydial antibiotics  \n",
       "3       G-CSF therapy intravenous antibiotic treatment  \n",
       "4                                      G-CSF treatment  \n",
       "..                                                 ...  \n",
       "102                     Peripheral retinal cryotherapy  \n",
       "103                            vaccine containing MF59  \n",
       "104                             arthroscopic treatment  \n",
       "105                                Surgical management  \n",
       "106  Hepatic arterial infusion of chemotherapy afte...  \n",
       "\n",
       "[107 rows x 2 columns]"
      ]
     },
     "execution_count": 24,
     "metadata": {},
     "output_type": "execute_result"
    }
   ],
   "source": [
    "#check created df\n",
    "disease_treatment_df"
   ]
  },
  {
   "cell_type": "code",
   "execution_count": 25,
   "id": "aef9c357",
   "metadata": {},
   "outputs": [],
   "source": [
    "#keyword\n",
    "key_word='inflammatory'"
   ]
  },
  {
   "cell_type": "code",
   "execution_count": 26,
   "id": "617a35bb",
   "metadata": {},
   "outputs": [
    {
     "data": {
      "text/html": [
       "<div>\n",
       "<style scoped>\n",
       "    .dataframe tbody tr th:only-of-type {\n",
       "        vertical-align: middle;\n",
       "    }\n",
       "\n",
       "    .dataframe tbody tr th {\n",
       "        vertical-align: top;\n",
       "    }\n",
       "\n",
       "    .dataframe thead th {\n",
       "        text-align: right;\n",
       "    }\n",
       "</style>\n",
       "<table border=\"1\" class=\"dataframe\">\n",
       "  <thead>\n",
       "    <tr style=\"text-align: right;\">\n",
       "      <th></th>\n",
       "      <th>Disease</th>\n",
       "      <th>Predicted Treatment</th>\n",
       "    </tr>\n",
       "  </thead>\n",
       "  <tbody>\n",
       "    <tr>\n",
       "      <th>25</th>\n",
       "      <td>inflammatory skin diseases</td>\n",
       "      <td>topical corticosteroids</td>\n",
       "    </tr>\n",
       "  </tbody>\n",
       "</table>\n",
       "</div>"
      ],
      "text/plain": [
       "                       Disease      Predicted Treatment\n",
       "25  inflammatory skin diseases  topical corticosteroids"
      ]
     },
     "execution_count": 26,
     "metadata": {},
     "output_type": "execute_result"
    }
   ],
   "source": [
    "#check search using keyword\n",
    "disease_treatment_df[disease_treatment_df.Disease.str.contains(key_word)]"
   ]
  },
  {
   "cell_type": "code",
   "execution_count": null,
   "id": "b4158c18",
   "metadata": {},
   "outputs": [],
   "source": []
  }
 ],
 "metadata": {
  "kernelspec": {
   "display_name": "Python 3",
   "language": "python",
   "name": "python3"
  },
  "language_info": {
   "codemirror_mode": {
    "name": "ipython",
    "version": 3
   },
   "file_extension": ".py",
   "mimetype": "text/x-python",
   "name": "python",
   "nbconvert_exporter": "python",
   "pygments_lexer": "ipython3",
   "version": "3.8.8"
  }
 },
 "nbformat": 4,
 "nbformat_minor": 5
}
